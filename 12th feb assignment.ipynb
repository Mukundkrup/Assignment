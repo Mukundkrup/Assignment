{
 "cells": [
  {
   "cell_type": "code",
   "execution_count": 1,
   "id": "7aa87976-4b1f-4a25-bb00-424240e1ab10",
   "metadata": {},
   "outputs": [],
   "source": [
    "#Ans 1)\n",
    "#In python, an exception is an event that interrupts the normal flow of program execution.\n",
    "#It is a signal that indicates that an error or unexpected situation has occurred, and the program cannot lproceed further in its normal execution path.\n",
    "#In pyhton, there are two types of errors that can occur - \n",
    "#1.syntax error - \n",
    "#These are errors that occur when the code violates the rules of Python syntax.\n",
    "#Examples of syntax errors include missing parentheses, incorrect indentation, and misspelled keywords.\n",
    "#Syntax errors are detected by the Python interpreter during the parsing of the code, and the interpreter displays an error message indicating the location and nature of the error. \n",
    "#Syntax errors prevent the program from running and must be fixed before the program can be executed.\n",
    "#2. exception error -\n",
    "#These are errors that occur during the execution of the program when unexpected conditions or errors arise.\n",
    "#Exceptions can be caused by many factors, including invalid input, division by zero, and file I/O errors. \n",
    "#Exceptions are raised by the Python interpreter when an error occurs, and they can be caught and handled by the program using try-except blocks.\n",
    "#Exceptions do not prevent the program from running, but they can cause it to behave unexpectedly if they are not handled properly."
   ]
  },
  {
   "cell_type": "code",
   "execution_count": 4,
   "id": "caa46ffc-74b3-4613-b68a-6a0f519a655f",
   "metadata": {},
   "outputs": [
    {
     "name": "stdin",
     "output_type": "stream",
     "text": [
      "Enter a number 0\n"
     ]
    },
    {
     "ename": "ZeroDivisionError",
     "evalue": "division by zero",
     "output_type": "error",
     "traceback": [
      "\u001b[0;31m---------------------------------------------------------------------------\u001b[0m",
      "\u001b[0;31mZeroDivisionError\u001b[0m                         Traceback (most recent call last)",
      "Cell \u001b[0;32mIn[4], line 7\u001b[0m\n\u001b[1;32m      1\u001b[0m \u001b[38;5;66;03m#Ans 2)\u001b[39;00m\n\u001b[1;32m      2\u001b[0m \u001b[38;5;66;03m#when an exception is not handled, it results in the termination of the program.\u001b[39;00m\n\u001b[1;32m      3\u001b[0m \u001b[38;5;66;03m#The Python interpreter stops executing the lprogram and displays an error message that includes a traceback, which is a list of the function calls that were active when the exception occurred.\u001b[39;00m\n\u001b[1;32m      4\u001b[0m \u001b[38;5;66;03m#This traceback can help you identify the location and cause of the exception.\u001b[39;00m\n\u001b[1;32m      5\u001b[0m \u001b[38;5;66;03m#For example -\u001b[39;00m\n\u001b[1;32m      6\u001b[0m number \u001b[38;5;241m=\u001b[39m \u001b[38;5;28mint\u001b[39m(\u001b[38;5;28minput\u001b[39m(\u001b[38;5;124m\"\u001b[39m\u001b[38;5;124mEnter a number\u001b[39m\u001b[38;5;124m\"\u001b[39m))\n\u001b[0;32m----> 7\u001b[0m result \u001b[38;5;241m=\u001b[39m \u001b[38;5;241;43m100\u001b[39;49m\u001b[38;5;241;43m/\u001b[39;49m\u001b[43mnumber\u001b[49m\n\u001b[1;32m      8\u001b[0m \u001b[38;5;28mprint\u001b[39m(\u001b[38;5;124m\"\u001b[39m\u001b[38;5;124mthe result is \u001b[39m\u001b[38;5;124m\"\u001b[39m , result)\n\u001b[1;32m     10\u001b[0m \u001b[38;5;66;03m#In this example, the program asks the user to enter a number , and then attempts to divide 100 by that number\u001b[39;00m\n\u001b[1;32m     11\u001b[0m \u001b[38;5;66;03m#However, the user enters 0, a \"ZeroDivisionError\" exception will be raised, since dividing by zero is not a valid operation.\u001b[39;00m\n",
      "\u001b[0;31mZeroDivisionError\u001b[0m: division by zero"
     ]
    }
   ],
   "source": [
    "#Ans 2)\n",
    "#when an exception is not handled, it results in the termination of the program.\n",
    "#The Python interpreter stops executing the lprogram and displays an error message that includes a traceback, which is a list of the function calls that were active when the exception occurred.\n",
    "#This traceback can help you identify the location and cause of the exception.\n",
    "#For example -\n",
    "number = int(input(\"Enter a number\"))\n",
    "result = 100/number\n",
    "print(\"the result is \" , result)\n",
    "\n",
    "#In this example, the program asks the user to enter a number , and then attempts to divide 100 by that number\n",
    "#However, the user enters 0, a \"ZeroDivisionError\" exception will be raised, since dividing by zero is not a valid operation."
   ]
  },
  {
   "cell_type": "code",
   "execution_count": 6,
   "id": "d280e459-8517-4c90-83ab-41b80fa28a61",
   "metadata": {},
   "outputs": [
    {
     "name": "stdin",
     "output_type": "stream",
     "text": [
      "Enter a number 0\n"
     ]
    },
    {
     "ename": "ZeroDivisionError",
     "evalue": "division by zero",
     "output_type": "error",
     "traceback": [
      "\u001b[0;31m---------------------------------------------------------------------------\u001b[0m",
      "\u001b[0;31mZeroDivisionError\u001b[0m                         Traceback (most recent call last)",
      "Cell \u001b[0;32mIn[6], line 6\u001b[0m\n\u001b[1;32m      1\u001b[0m \u001b[38;5;66;03m#Ans 3)\u001b[39;00m\n\u001b[1;32m      2\u001b[0m \u001b[38;5;66;03m#In Python, you can catch and handle exceptions using the try-except statement. \u001b[39;00m\n\u001b[1;32m      3\u001b[0m \u001b[38;5;66;03m#The try block contains the code that might raise an exception, while the except block contains the code that handles the exception if it occurs. \u001b[39;00m\n\u001b[1;32m      4\u001b[0m \u001b[38;5;66;03m#Here's an example:\u001b[39;00m\n\u001b[1;32m      5\u001b[0m number \u001b[38;5;241m=\u001b[39m \u001b[38;5;28mint\u001b[39m(\u001b[38;5;28minput\u001b[39m(\u001b[38;5;124m\"\u001b[39m\u001b[38;5;124mEnter a number\u001b[39m\u001b[38;5;124m\"\u001b[39m))\n\u001b[0;32m----> 6\u001b[0m result \u001b[38;5;241m=\u001b[39m \u001b[38;5;241;43m100\u001b[39;49m\u001b[38;5;241;43m/\u001b[39;49m\u001b[43mnumber\u001b[49m\n\u001b[1;32m      7\u001b[0m \u001b[38;5;28mprint\u001b[39m(\u001b[38;5;124m\"\u001b[39m\u001b[38;5;124mthe result is \u001b[39m\u001b[38;5;124m\"\u001b[39m , result)\n\u001b[1;32m      9\u001b[0m \u001b[38;5;66;03m#In this example, the program asks the user to enter a number , and then attempts to divide 100 by that number\u001b[39;00m\n\u001b[1;32m     10\u001b[0m \u001b[38;5;66;03m#However, the user enters 0, a \"ZeroDivisionError\" exception will be raised, since dividing by zero is not a valid operation.\u001b[39;00m\n",
      "\u001b[0;31mZeroDivisionError\u001b[0m: division by zero"
     ]
    }
   ],
   "source": [
    "#Ans 3)\n",
    "#In Python, you can catch and handle exceptions using the try-except statement. \n",
    "#The try block contains the code that might raise an exception, while the except block contains the code that handles the exception if it occurs. \n",
    "#Here's an example:\n",
    "number = int(input(\"Enter a number\"))\n",
    "result = 100/number\n",
    "print(\"the result is \" , result)\n",
    "\n",
    "#In this example, the program asks the user to enter a number , and then attempts to divide 100 by that number\n",
    "#However, the user enters 0, a \"ZeroDivisionError\" exception will be raised, since dividing by zero is not a valid operation.\n"
   ]
  },
  {
   "cell_type": "code",
   "execution_count": 8,
   "id": "798aedb6-4bce-4f9d-9d7f-f4bea0dc799d",
   "metadata": {},
   "outputs": [
    {
     "name": "stdin",
     "output_type": "stream",
     "text": [
      "Enter a number 0\n"
     ]
    },
    {
     "name": "stdout",
     "output_type": "stream",
     "text": [
      "divisiblty rule error\n"
     ]
    }
   ],
   "source": [
    "try:\n",
    "    number = int(input(\"Enter a number\"))\n",
    "    result = 100/number\n",
    "    print(\"the result is \" , result)\n",
    "except Exception as e:\n",
    "    print(\"divisiblty rule error\")\n",
    "\n",
    "# In this code, the program attempts to execute the code inside the 'try' block. \n",
    "#If an exception is raised, and it is of type 'Exception' , then the program jumps to the 'except' block which points an error message instead of allowing the exception to propagate and terminate the program."
   ]
  },
  {
   "cell_type": "code",
   "execution_count": 1,
   "id": "315d9d87-35bb-49f5-ae55-5e3d026f8f9b",
   "metadata": {},
   "outputs": [
    {
     "name": "stdin",
     "output_type": "stream",
     "text": [
      "Enter a number:  25\n",
      "Enter another number:  0\n"
     ]
    },
    {
     "name": "stdout",
     "output_type": "stream",
     "text": [
      "Error: Division by zero is not allowed.\n"
     ]
    }
   ],
   "source": [
    "#Ans 4)\n",
    "#a) try and else = \n",
    "#try block:-\n",
    "#The try block is used to enclose the code that may potentially raise an exception. If an exception occurs within the try block, it is caught and handled by the corresponding except block(s). \n",
    "#Here's an example -\n",
    "try:\n",
    "    num1 = int(input(\"Enter a number: \"))\n",
    "    num2 = int(input(\"Enter another number: \"))\n",
    "    result = num1 / num2\n",
    "    print(\"The result is:\", result)\n",
    "except ValueError:\n",
    "    print(\"Invalid input. Please enter valid integers.\")\n",
    "except ZeroDivisionError:\n",
    "    print(\"Error: Division by zero is not allowed.\")"
   ]
  },
  {
   "cell_type": "code",
   "execution_count": 4,
   "id": "35e31f48-8423-4e33-b201-c760ca76baed",
   "metadata": {},
   "outputs": [
    {
     "name": "stdin",
     "output_type": "stream",
     "text": [
      "Enter a number:  85\n",
      "Enter another number:  23.2\n"
     ]
    },
    {
     "name": "stdout",
     "output_type": "stream",
     "text": [
      "Invalid input. Please enter valid integers.\n"
     ]
    }
   ],
   "source": [
    "#else block:\n",
    "#The else block is optional and follows the try and except blocks. It is executed when no exceptions are raised within the try block. \n",
    "#Here's an example:\n",
    "try:\n",
    "    num1 = int(input(\"Enter a number: \"))\n",
    "    num2 = int(input(\"Enter another number: \"))\n",
    "except ValueError:\n",
    "    print(\"Invalid input. Please enter valid integers.\")\n",
    "else:\n",
    "    result = num1 + num2\n",
    "    print(\"The sum of the numbers is:\", result)"
   ]
  },
  {
   "cell_type": "code",
   "execution_count": 29,
   "id": "e4165d31-d7a8-4191-8981-f8c82e513381",
   "metadata": {},
   "outputs": [
    {
     "name": "stdout",
     "output_type": "stream",
     "text": [
      "File not found.\n",
      "File closed.\n"
     ]
    }
   ],
   "source": [
    "#b)finally -\n",
    "#In Python, the finally block is used in exception handling to define a piece of code that will be executed regardless of whether an exception occurred or not. \n",
    "#The finally block is placed after the try and except blocks, and it is optional.\n",
    "#The main purpose of the finally block is to define cleanup actions that should always be performed, such as closing files, releasing resources, or cleaning up temporary data. \n",
    "#The code inside the finally block will execute even if an exception occurs or if there is a return statement within the try or except blocks.\n",
    "#Here's an example that demonstrates the usage of the finally block:\n",
    "try:\n",
    "    file = open(\"data.txt\", \"r\")  \n",
    "    data = file.read()\n",
    "    print(data)\n",
    "except FileNotFoundError:\n",
    "    print(\"File not found.\")\n",
    "finally:\n",
    "    \n",
    "        print(\"File closed.\")\n"
   ]
  },
  {
   "cell_type": "code",
   "execution_count": 25,
   "id": "b91576b9-c9c6-40ad-ab62-db498bb45c62",
   "metadata": {},
   "outputs": [
    {
     "name": "stdout",
     "output_type": "stream",
     "text": [
      "Error: Invalid discount percentage.\n"
     ]
    }
   ],
   "source": [
    "#c) raise -\n",
    "#In Python, the raise statement is used to explicitly raise an exception. It allows you to generate and raise custom exceptions or propagate built-in exceptions.\n",
    "#When raise is used, it interrupts the normal flow of the program and transfers control to the nearest exception handler that can handle the raised exception.\n",
    "#Here's an example to illustrate the usage of raise in Python:\n",
    "def calculate_discount(price, discount):\n",
    "    if discount < 0 or discount > 100:\n",
    "        raise ValueError(\"Invalid discount percentage.\")\n",
    "    \n",
    "    discounted_price = price - (price * discount / 100)\n",
    "    return discounted_price\n",
    "\n",
    "try:\n",
    "    final_price = calculate_discount(100, 150)\n",
    "    print(\"Final price after discount:\", final_price)\n",
    "except ValueError as e:\n",
    "    print(\"Error:\", str(e))\n"
   ]
  },
  {
   "cell_type": "code",
   "execution_count": 26,
   "id": "79289c0b-1cd7-4af9-809f-395ab4b995e0",
   "metadata": {},
   "outputs": [
    {
     "name": "stdout",
     "output_type": "stream",
     "text": [
      "Error: Insufficient funds in the account.\n"
     ]
    }
   ],
   "source": [
    "#Ans 5)\n",
    "#Custom exceptions in Python are user-defined exceptions that inherit from the built-in Exception class or its subclasses. \n",
    "#They allow developers to create their own specialized exceptions to represent specific error conditions or situations that are relevant to their application or module.\n",
    "#Here's an example to illustrate the need for custom exceptions:\n",
    "class InsufficientFundsError(Exception):\n",
    "    pass\n",
    "\n",
    "def withdraw(amount, balance):\n",
    "    if amount > balance:\n",
    "        raise InsufficientFundsError(\"Insufficient funds in the account.\")\n",
    "    else:\n",
    "        print(\"Withdrawal successful.\")\n",
    "\n",
    "try:\n",
    "    withdraw(1000, 500)\n",
    "except InsufficientFundsError as e:\n",
    "    print(\"Error:\", str(e))\n"
   ]
  },
  {
   "cell_type": "code",
   "execution_count": 28,
   "id": "4699b2fe-9ee1-47c4-a328-5e4d1ca3346e",
   "metadata": {},
   "outputs": [
    {
     "name": "stdin",
     "output_type": "stream",
     "text": [
      "Enter the email address:  sudhgmail.com\n"
     ]
    },
    {
     "name": "stdout",
     "output_type": "stream",
     "text": [
      "Error: The email 'sudhgmail.com' is invalid.\n"
     ]
    }
   ],
   "source": [
    "#Ans 6)\n",
    "#Certainly! Here's an example of creating a custom exception class and using it to handle an exception:\n",
    "class InvalidEmailError(Exception):\n",
    "    def __init__(self, email):\n",
    "        self.email = email\n",
    "        self.message = f\"The email '{email}' is invalid.\"\n",
    "\n",
    "def send_email(email):\n",
    "    if \"@\" not in email:\n",
    "        raise InvalidEmailError(email)\n",
    "    else:\n",
    "        print(\"Email sent successfully.\")\n",
    "\n",
    "try:\n",
    "    email = input(\"Enter the email address: \")\n",
    "    send_email(email)\n",
    "except InvalidEmailError as e:\n",
    "    print(\"Error:\", e.message)\n"
   ]
  },
  {
   "cell_type": "code",
   "execution_count": null,
   "id": "36cbcf02-1be1-4328-b8a1-6d1c68ecc181",
   "metadata": {},
   "outputs": [],
   "source": []
  }
 ],
 "metadata": {
  "kernelspec": {
   "display_name": "Python 3 (ipykernel)",
   "language": "python",
   "name": "python3"
  },
  "language_info": {
   "codemirror_mode": {
    "name": "ipython",
    "version": 3
   },
   "file_extension": ".py",
   "mimetype": "text/x-python",
   "name": "python",
   "nbconvert_exporter": "python",
   "pygments_lexer": "ipython3",
   "version": "3.10.8"
  }
 },
 "nbformat": 4,
 "nbformat_minor": 5
}
