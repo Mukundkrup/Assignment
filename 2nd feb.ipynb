{
 "cells": [
  {
   "cell_type": "code",
   "execution_count": 4,
   "id": "ad71f830-d0bb-4397-8aff-d9730d74da6b",
   "metadata": {},
   "outputs": [],
   "source": [
    "#Ans 1)\n",
    "#while loop always verify and check wheather the condition is true or not and hence it will only work when the condition is true\n",
    "\n",
    "#for loop donot verify and check the condition It simply excute whether the condition is true or false\n",
    "#example:\n"
   ]
  },
  {
   "cell_type": "code",
   "execution_count": 5,
   "id": "0ec8a475-f2c9-4328-8ada-269531cd79aa",
   "metadata": {},
   "outputs": [
    {
     "name": "stdout",
     "output_type": "stream",
     "text": [
      "12\n",
      "34\n",
      "5\n",
      "4523\n",
      "23\n",
      "45\n"
     ]
    }
   ],
   "source": [
    "#for loop\n",
    "i = [12,34,5,4523,23,45]\n",
    "for l in i:\n",
    "    print (l)"
   ]
  },
  {
   "cell_type": "code",
   "execution_count": 6,
   "id": "c81b458c-5efc-42a6-b6f9-014e3408934e",
   "metadata": {},
   "outputs": [
    {
     "name": "stdout",
     "output_type": "stream",
     "text": [
      "1\n",
      "2\n",
      "3\n",
      "4\n",
      "5\n",
      "6\n",
      "7\n",
      "8\n",
      "9\n",
      "10\n"
     ]
    }
   ],
   "source": [
    "#while loop \n",
    "l = 1\n",
    "while l<= 10:\n",
    "    print(l)\n",
    "    l +=1"
   ]
  },
  {
   "cell_type": "code",
   "execution_count": 7,
   "id": "9c6a3195-4eed-40b7-86a9-64d872137fb2",
   "metadata": {},
   "outputs": [
    {
     "name": "stdout",
     "output_type": "stream",
     "text": [
      "55\n"
     ]
    }
   ],
   "source": [
    "#Ans 2)\n",
    "#sum of natural number in for loop\n",
    "l = [1,2,3,4,5,6,7,8,9,10]\n",
    "r = 0\n",
    "for i in l :\n",
    "    r = r+i\n",
    "print(r)"
   ]
  },
  {
   "cell_type": "code",
   "execution_count": 8,
   "id": "9126e7f5-8518-482b-a3de-a92c51edd738",
   "metadata": {},
   "outputs": [
    {
     "name": "stdout",
     "output_type": "stream",
     "text": [
      "3628800\n"
     ]
    }
   ],
   "source": [
    "#product of natural number in for loop\n",
    "l = [1,2,3,4,5,6,7,8,9,10]\n",
    "r = 1\n",
    "for i in l:\n",
    "    r = r*i\n",
    "print (r)"
   ]
  },
  {
   "cell_type": "code",
   "execution_count": 9,
   "id": "4471156e-8854-4ff5-892b-6183bf8c45d7",
   "metadata": {},
   "outputs": [
    {
     "data": {
      "text/plain": [
       "55"
      ]
     },
     "execution_count": 9,
     "metadata": {},
     "output_type": "execute_result"
    }
   ],
   "source": [
    "#sum of first ten natural number in while loop\n",
    "i = 1\n",
    "r = 0\n",
    "while i <= 10:\n",
    "    r = r+i\n",
    "    i+=1\n",
    "r"
   ]
  },
  {
   "cell_type": "code",
   "execution_count": 12,
   "id": "4f3c39f6-5217-4b67-bec1-9a112ff790ce",
   "metadata": {},
   "outputs": [
    {
     "data": {
      "text/plain": [
       "3628800"
      ]
     },
     "execution_count": 12,
     "metadata": {},
     "output_type": "execute_result"
    }
   ],
   "source": [
    "#product of first ten natural numbers in while loop\n",
    "i = 1\n",
    "r = 1\n",
    "while i <= 10:\n",
    "    r = r*i\n",
    "    i+=1\n",
    "r"
   ]
  },
  {
   "cell_type": "code",
   "execution_count": 14,
   "id": "03d6a6b5-bce1-41a8-8523-e7ad5906fbe6",
   "metadata": {},
   "outputs": [
    {
     "name": "stdin",
     "output_type": "stream",
     "text": [
      "enter the unit consumed 310\n"
     ]
    },
    {
     "name": "stdout",
     "output_type": "stream",
     "text": [
      "your final bill is : Rs. 2250.0\n"
     ]
    }
   ],
   "source": [
    "#Ans 3)\n",
    "# Computing electricity bill for house hold\n",
    "unit_consumed = int(input('enter the unit consumed'))\n",
    "if unit_consumed <= 100:\n",
    "    bill = unit_consumed * 4.5\n",
    "elif unit_consumed <= 200:\n",
    "    bill = (100*4.5)+((unit_consumed - 100)*6)\n",
    "elif unit_consumed <= 300:\n",
    "    bill = (100*4.5)+(100*6)+((unit_consumed - 200)*10)\n",
    "else:\n",
    "    bill = (100*4.5)+(100*6)+(100*10)+((unit_consumed - 300)*20)\n",
    "print(\"your final bill is : Rs.\",bill)"
   ]
  },
  {
   "cell_type": "code",
   "execution_count": 2,
   "id": "0f70690d-dc51-4834-b7c3-7c56fc4f8fd0",
   "metadata": {},
   "outputs": [
    {
     "name": "stdout",
     "output_type": "stream",
     "text": [
      "List of number whose cube are divisible by 4 or 5: [2, 4, 5, 6, 8, 10, 12, 14, 15, 16, 18, 20, 22, 24, 25, 26, 28, 30, 32, 34, 35, 36, 38, 40, 42, 44, 45, 46, 48, 50, 52, 54, 55, 56, 58, 60, 62, 64, 65, 66, 68, 70, 72, 74, 75, 76, 78, 80, 82, 84, 85, 86, 88, 90, 92, 94, 95, 96, 98, 100]\n",
      "List of cubes: [1, 8, 27, 64, 125, 216, 343, 512, 729, 1000, 1331, 1728, 2197, 2744, 3375, 4096, 4913, 5832, 6859, 8000, 9261, 10648, 12167, 13824, 15625, 17576, 19683, 21952, 24389, 27000, 29791, 32768, 35937, 39304, 42875, 46656, 50653, 54872, 59319, 64000, 68921, 74088, 79507, 85184, 91125, 97336, 103823, 110592, 117649, 125000, 132651, 140608, 148877, 157464, 166375, 175616, 185193, 195112, 205379, 216000, 226981, 238328, 250047, 262144, 274625, 287496, 300763, 314432, 328509, 343000, 357911, 373248, 389017, 405224, 421875, 438976, 456533, 474552, 493039, 512000, 531441, 551368, 571787, 592704, 614125, 636056, 658503, 681472, 704969, 729000, 753571, 778688, 804357, 830584, 857375, 884736, 912673, 941192, 970299, 1000000]\n"
     ]
    }
   ],
   "source": [
    "#Ans 4)\n",
    "#for loop\n",
    "number = []\n",
    "result = []\n",
    "for i in range(1,101):\n",
    "    cube = i**3\n",
    "    if cube%4 == 0 or cube%5 == 0:  \n",
    "        result.append(i)\n",
    "    number.append(cube)\n",
    "print (\"List of number whose cube are divisible by 4 or 5:\", result)\n",
    "print (\"List of cubes:\", number)"
   ]
  },
  {
   "cell_type": "code",
   "execution_count": 1,
   "id": "82577a76-f696-4189-9bf8-be84da13609f",
   "metadata": {},
   "outputs": [
    {
     "name": "stdout",
     "output_type": "stream",
     "text": [
      "List of number whose cube are divisible by 4 or 5: [2, 4, 5, 6, 8, 10, 12, 14, 15, 16, 18, 20, 22, 24, 25, 26, 28, 30, 32, 34, 35, 36, 38, 40, 42, 44, 45, 46, 48, 50, 52, 54, 55, 56, 58, 60, 62, 64, 65, 66, 68, 70, 72, 74, 75, 76, 78, 80, 82, 84, 85, 86, 88, 90, 92, 94, 95, 96, 98, 100]\n",
      "List of cubes: [1, 8, 27, 64, 125, 216, 343, 512, 729, 1000, 1331, 1728, 2197, 2744, 3375, 4096, 4913, 5832, 6859, 8000, 9261, 10648, 12167, 13824, 15625, 17576, 19683, 21952, 24389, 27000, 29791, 32768, 35937, 39304, 42875, 46656, 50653, 54872, 59319, 64000, 68921, 74088, 79507, 85184, 91125, 97336, 103823, 110592, 117649, 125000, 132651, 140608, 148877, 157464, 166375, 175616, 185193, 195112, 205379, 216000, 226981, 238328, 250047, 262144, 274625, 287496, 300763, 314432, 328509, 343000, 357911, 373248, 389017, 405224, 421875, 438976, 456533, 474552, 493039, 512000, 531441, 551368, 571787, 592704, 614125, 636056, 658503, 681472, 704969, 729000, 753571, 778688, 804357, 830584, 857375, 884736, 912673, 941192, 970299, 1000000]\n"
     ]
    }
   ],
   "source": [
    "#while loop\n",
    "number = []\n",
    "result = []\n",
    "i =1\n",
    "while i <= 100:\n",
    "    cube= i**3\n",
    "    if cube%4 == 0 or cube%5 == 0:\n",
    "          result.append(i)\n",
    "    i += 1\n",
    "    number.append(cube)\n",
    "          \n",
    "    \n",
    "print (\"List of number whose cube are divisible by 4 or 5:\", result)\n",
    "print (\"List of cubes:\", number)   \n",
    "    "
   ]
  },
  {
   "cell_type": "code",
   "execution_count": 50,
   "id": "9dc9c015-b594-40ae-803f-4f8e4814902f",
   "metadata": {},
   "outputs": [
    {
     "name": "stdout",
     "output_type": "stream",
     "text": [
      "no. of vowel: 12\n"
     ]
    }
   ],
   "source": [
    "#Ans 5)\n",
    "string = \"i want to become a data scientist\"\n",
    "vowel = \"aeiou\"\n",
    "count = 0\n",
    "for char in string:\n",
    "    if char in vowel:\n",
    "        count = count + 1\n",
    "        \n",
    "print(\"no. of vowel:\", count)"
   ]
  },
  {
   "cell_type": "code",
   "execution_count": null,
   "id": "978932e5-5cda-49dd-b2cf-dfcd5e697402",
   "metadata": {},
   "outputs": [],
   "source": []
  }
 ],
 "metadata": {
  "kernelspec": {
   "display_name": "Python 3 (ipykernel)",
   "language": "python",
   "name": "python3"
  },
  "language_info": {
   "codemirror_mode": {
    "name": "ipython",
    "version": 3
   },
   "file_extension": ".py",
   "mimetype": "text/x-python",
   "name": "python",
   "nbconvert_exporter": "python",
   "pygments_lexer": "ipython3",
   "version": "3.10.8"
  }
 },
 "nbformat": 4,
 "nbformat_minor": 5
}
