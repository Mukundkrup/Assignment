{
 "cells": [
  {
   "cell_type": "code",
   "execution_count": 1,
   "id": "f9de755d-6547-418d-8dc2-060b32151394",
   "metadata": {},
   "outputs": [],
   "source": [
    "#Ans 1)\n",
    "# Abstraction in object-oriented programming is the process of simplifying complex systems by breaking them down into smaller, more manageable components. It is a fundamental concept of OOPs that helps in creating more maintainable and scalable code.\n",
    "#In Python, abstraction can be achieved through the use of abstract classes and interfaces. An abstract class is a class that cannot be instantiated and is used as a blueprint for other classes. \n",
    "#It contains one or more abstract methods, which are methods that have no implementation and must be overridden by the subclasses that inherit from the abstract class.\n",
    "#Here's an example of an abstract class that represents a Shape:\n",
    "from abc import ABC, abstractmethod \n",
    "class Shape(ABC): \n",
    "    \n",
    "    @abstractmethod\n",
    "    def area(self):\n",
    "        pass \n",
    "   \n",
    "    @abstractmethod \n",
    "    def perimeter(self):\n",
    "        pass\n",
    "#Here's an example of a subclass that inherits from the Shape class and provides an implementation for the abstract methods:\n",
    "#class Rectangle(Shape): \n",
    "#    def __init__(self, length, width): \n",
    "#        self.length = length \n",
    "#        self.width = width \n",
    "#  \n",
    "#    def area(self):\n",
    "#        return self.length * self.width\n",
    "#    \n",
    "#    def perimeter(self): \n",
    "#        return 2 * (self.length + self.width)\n",
    "#By using abstraction, we can create a more maintainable and scalable code because we can easily add new subclasses that inherit from the abstract class without changing the existing code. \n",
    "#Additionally, abstraction helps in hiding the implementation details of the class from the user, making it easier to use the class without knowing its internal workings."
   ]
  },
  {
   "cell_type": "code",
   "execution_count": 3,
   "id": "8b7b106e-ef69-4749-9703-27ce6423b2cd",
   "metadata": {},
   "outputs": [],
   "source": [
    "#Ans 2)\n",
    "#Abstraction is the process of simplifying complex systems by breaking them down into smaller, more manageable components.\n",
    "#It is about identifying the essential features of an object and ignoring the non-essential features.\n",
    "#Abstraction is achieved through the use of abstract classes, interfaces, and abstract methods, which hide the implementation details of a class from the user.\n",
    "\n",
    "#Encapsulation is the process of hiding the implementation details of a class from the outside world and providing a set of public methods to access and modify the state of the object.\n",
    "#It is about bundling the data and the methods that operate on the data into a single unit, called a class.\n",
    "#Encapsulation is achieved through the use of access modifiers, such as public, private, and protected, which restrict the access to the data members of a class.\n",
    "\n",
    "#Here's an example to illustrate the difference between Abstraction and Encapsulation:\n",
    "#class BankAccount: \n",
    "#    def __init__(self, account_number, balance): \n",
    "#        self.__account_number = account_number \n",
    "#        self.__balance = balance\n",
    "#    def deposit(self, amount):\n",
    "#        self.__balance += amount\n",
    "#    def withdraw(self, amount): \n",
    "#        if amount <= self.__balance: \n",
    "#            self.__balance -= amount \n",
    "#        else: \n",
    "#            print(\"Insufficient balance!\")\n",
    "#    def get_balance(self):\n",
    "#        return self.__balance\n",
    "\n",
    "#Now, let's add abstraction to the BankAccount class by making it an abstract class and defining abstract methods for calculating interest and fees:\n",
    "#from abc import ABC, abstractmethod\n",
    "#class BankAccount(ABC): \n",
    "#    def __init__(self, account_number, balance):\n",
    "#        self.__account_number = account_number\n",
    "#        self.__balance = balance\n",
    "#    def deposit(self, amount):\n",
    "#        self.__balance += amount \n",
    "#    def withdraw(self, amount):\n",
    "#        if amount <= self.__balance: \n",
    "#            self.__balance -= amount\n",
    "#        else: \n",
    "#            print(\"Insufficient balance!\")\n",
    "#    def get_balance(self): \n",
    "#        return self.__balance \n",
    "    \n",
    "#    @abstractmethod \n",
    "#    def calculate_interest(self):\n",
    "#        pass \n",
    "    \n",
    "#    @abstractmethod \n",
    "#    def calculate_fees(self): \n",
    "#        pass\n",
    "\n",
    "#In conclusion, abstraction and encapsulation are two important concepts in Object-Oriented Programming that help in creating more maintainable, scalable and secure code.\n",
    "#While encapsulation is about bundling data and methods into a single unit and restricting access to the data, abstraction is about simplifying complex systems by breaking them down into smaller, more manageable components and providing an abstract interface for accessing and modifying them."
   ]
  },
  {
   "cell_type": "code",
   "execution_count": 4,
   "id": "7e0c0fa7-c5dd-4401-988c-5c9702fbb9bd",
   "metadata": {},
   "outputs": [],
   "source": [
    "#Ans 3)\n",
    "#The abc module in Python stands for \"Abstract Base Classes\". \n",
    "#It is used to define abstract base classes for Python classes.\n",
    "#Abstract base classes are classes that can't be instantiated, but they define a common API that can be used by subclasses.\n",
    "#The abc module provides the ABC class that is used to define abstract base classes. To create an abstract base class, you need to subclass ABC and define abstract methods in it. \n",
    "#Abstract methods are methods that don't have any implementation in the abstract base class. Subclasses must provide their own implementation for these methods.\n",
    "#The abc module is used to enforce a certain structure and behavior in the classes that inherit from the abstract base classes. It helps in designing better interfaces, providing clarity in code and reducing errors."
   ]
  },
  {
   "cell_type": "code",
   "execution_count": 5,
   "id": "3a8e4b76-ab48-421f-b4b3-54d0b602a950",
   "metadata": {},
   "outputs": [],
   "source": [
    "#Ans 4)\n",
    "#In object-oriented programming, data abstraction can be achieved by defining abstract classes and interfaces that define the methods and properties that should be implemented by the concrete classes.\n",
    "#Abstract classes are classes that cannot be instantiated and provide a blueprint for the concrete classes. They contain one or more abstract methods that are defined but not implemented in the abstract class. Concrete classes that inherit from the abstract class must implement all the abstract methods."
   ]
  },
  {
   "cell_type": "code",
   "execution_count": 6,
   "id": "d4b78a4a-1512-449e-a5a1-dd03c07a3aa5",
   "metadata": {},
   "outputs": [],
   "source": [
    "#Ans 5)\n",
    "# No, we cannot create an instance of an abstract class directly because it is an incomplete class, which means it has one or more abstract methods that do not have any implementation.\n",
    "# An abstract  class serves as a blueprint for its subclasses, which must implement all the abstract methods defined in the abstract class."
   ]
  },
  {
   "cell_type": "code",
   "execution_count": null,
   "id": "3088e308-a73a-49c5-8e06-011f32101348",
   "metadata": {},
   "outputs": [],
   "source": []
  }
 ],
 "metadata": {
  "kernelspec": {
   "display_name": "Python 3 (ipykernel)",
   "language": "python",
   "name": "python3"
  },
  "language_info": {
   "codemirror_mode": {
    "name": "ipython",
    "version": 3
   },
   "file_extension": ".py",
   "mimetype": "text/x-python",
   "name": "python",
   "nbconvert_exporter": "python",
   "pygments_lexer": "ipython3",
   "version": "3.10.8"
  }
 },
 "nbformat": 4,
 "nbformat_minor": 5
}
