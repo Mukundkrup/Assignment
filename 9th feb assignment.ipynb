{
 "cells": [
  {
   "cell_type": "code",
   "execution_count": 4,
   "id": "bc8d3fdb-b500-4ba6-a6ac-f91e15e351fe",
   "metadata": {},
   "outputs": [],
   "source": [
    "#Ans 1)\n",
    "\n",
    "class vehicle:\n",
    "    def __init__(self, name_of_vehicle, max_speed, avg_of_vehicle):\n",
    "        self.name_of_vehicle = name_of_vehicle\n",
    "        self.max_speed = max_speed\n",
    "        self.avg_of_vehicle = avg_of_vehicle      "
   ]
  },
  {
   "cell_type": "code",
   "execution_count": 5,
   "id": "7925f3ec-a841-48f8-8e06-2101f4eaeb9e",
   "metadata": {},
   "outputs": [],
   "source": [
    "c = vehicle(\"harley_devidson\", 250,25 )"
   ]
  },
  {
   "cell_type": "code",
   "execution_count": 6,
   "id": "e92cbc9f-6fa6-4609-ae11-73a89fb1b46d",
   "metadata": {},
   "outputs": [
    {
     "data": {
      "text/plain": [
       "25"
      ]
     },
     "execution_count": 6,
     "metadata": {},
     "output_type": "execute_result"
    }
   ],
   "source": [
    "c.avg_of_vehicle"
   ]
  },
  {
   "cell_type": "code",
   "execution_count": 7,
   "id": "1e243501-0206-43c9-8538-8fec000444b0",
   "metadata": {},
   "outputs": [
    {
     "data": {
      "text/plain": [
       "250"
      ]
     },
     "execution_count": 7,
     "metadata": {},
     "output_type": "execute_result"
    }
   ],
   "source": [
    "c.max_speed"
   ]
  },
  {
   "cell_type": "code",
   "execution_count": 8,
   "id": "1fe35573-dd9e-4f95-8d86-53f635d4522e",
   "metadata": {},
   "outputs": [
    {
     "data": {
      "text/plain": [
       "'harley_devidson'"
      ]
     },
     "execution_count": 8,
     "metadata": {},
     "output_type": "execute_result"
    }
   ],
   "source": [
    "c.name_of_vehicle"
   ]
  },
  {
   "cell_type": "code",
   "execution_count": 9,
   "id": "92058b23-c037-4825-a519-ac8f09445765",
   "metadata": {},
   "outputs": [],
   "source": [
    "#Ans 2)\n",
    "\n",
    "class child:\n",
    "    def seating_capacity(self):\n",
    "        return 7"
   ]
  },
  {
   "cell_type": "code",
   "execution_count": 10,
   "id": "a8e4302c-38d2-40c4-875c-9acd745cf591",
   "metadata": {},
   "outputs": [],
   "source": [
    "class car(vehicle, child):\n",
    "    pass"
   ]
  },
  {
   "cell_type": "code",
   "execution_count": 11,
   "id": "7352bdd3-eb80-41a7-b38d-e1b6d90c2f94",
   "metadata": {},
   "outputs": [],
   "source": [
    "obj_car = car(\"tata\", 7,7)"
   ]
  },
  {
   "cell_type": "code",
   "execution_count": 12,
   "id": "f2e88ed9-2164-4967-ad67-fc7adb4d96c5",
   "metadata": {},
   "outputs": [
    {
     "data": {
      "text/plain": [
       "7"
      ]
     },
     "execution_count": 12,
     "metadata": {},
     "output_type": "execute_result"
    }
   ],
   "source": [
    "obj_car.seating_capacity()"
   ]
  },
  {
   "cell_type": "code",
   "execution_count": 15,
   "id": "abb564bb-c50c-47bc-aa9a-ad4a3c2b106b",
   "metadata": {},
   "outputs": [],
   "source": [
    "#Ans 3)\n",
    "#Multiple inheritence is a feature in object-orientented programming that allows a class to inherit from multiple parent classes.\n",
    "#In other words, a child class can inherit attributes and methods from more than one parent class.\n",
    "\n",
    "class mukund:\n",
    "    def test_mukund(self):\n",
    "        return \"he is a good student\"\n",
    "    \n",
    "class upadhyay:\n",
    "    def test_upadhyay(self):\n",
    "        return \"this is his surname\"\n",
    "    \n",
    "class combine(mukund,upadhyay):\n",
    "    pass\n",
    "\n",
    "obj_class = combine()\n"
   ]
  },
  {
   "cell_type": "code",
   "execution_count": 16,
   "id": "4333488d-5068-4e69-8f2e-d8b98cf7eaaa",
   "metadata": {},
   "outputs": [
    {
     "data": {
      "text/plain": [
       "'he is a good student'"
      ]
     },
     "execution_count": 16,
     "metadata": {},
     "output_type": "execute_result"
    }
   ],
   "source": [
    "obj_class.test_mukund()"
   ]
  },
  {
   "cell_type": "code",
   "execution_count": 17,
   "id": "b2806780-e3a5-47ca-974f-849b3a8db5c8",
   "metadata": {},
   "outputs": [
    {
     "data": {
      "text/plain": [
       "'this is his surname'"
      ]
     },
     "execution_count": 17,
     "metadata": {},
     "output_type": "execute_result"
    }
   ],
   "source": [
    "obj_class.test_upadhyay()"
   ]
  },
  {
   "cell_type": "code",
   "execution_count": 26,
   "id": "27abcf9c-e300-41a5-b63f-48bf27712764",
   "metadata": {},
   "outputs": [],
   "source": [
    "#Ans 4)\n",
    "# In Python, getter and setter are methods that are used to access and modify the attributes of an object. \n",
    "#These methods are often used in object-oriented programming to provide controlled access to an object's attributes.\n",
    "#Getter methods aare used to retrieve the value of an object's attribute\n",
    "#while setter methods are used to modify the value of an object's attribute.\n",
    "\n",
    "class course:\n",
    "    \n",
    "    def __init__(self, course_name, course_code):\n",
    "        self.course_name = course_name\n",
    "        self.__course_code = course_code\n",
    "    \n",
    "    @property\n",
    "    def course_code_getter(self):\n",
    "        return self.__course_code\n",
    "    \n",
    "    @course_code_getter.setter\n",
    "    def course_code_set(self,course_code):\n",
    "        if course_code <= 50:\n",
    "            pass\n",
    "        else:\n",
    "            self.__course_code = course_code      \n",
    "        \n",
    "            "
   ]
  },
  {
   "cell_type": "code",
   "execution_count": 27,
   "id": "05442e35-1983-4604-b594-5d7ec865c346",
   "metadata": {},
   "outputs": [],
   "source": [
    "c = course(\"masters in data science\", 50)"
   ]
  },
  {
   "cell_type": "code",
   "execution_count": 28,
   "id": "2feb1af4-6b87-464d-af9b-6c8ae7ddfb6f",
   "metadata": {},
   "outputs": [
    {
     "data": {
      "text/plain": [
       "50"
      ]
     },
     "execution_count": 28,
     "metadata": {},
     "output_type": "execute_result"
    }
   ],
   "source": [
    "c.course_code_getter"
   ]
  },
  {
   "cell_type": "code",
   "execution_count": 29,
   "id": "c2dccdfc-2e42-4893-8657-76447ce2cc5c",
   "metadata": {},
   "outputs": [],
   "source": [
    "c.course_code_set = 85"
   ]
  },
  {
   "cell_type": "code",
   "execution_count": 30,
   "id": "75005841-5c97-484f-b47d-2b1cc55a84ae",
   "metadata": {},
   "outputs": [
    {
     "data": {
      "text/plain": [
       "85"
      ]
     },
     "execution_count": 30,
     "metadata": {},
     "output_type": "execute_result"
    }
   ],
   "source": [
    "c.course_code_getter"
   ]
  },
  {
   "cell_type": "code",
   "execution_count": 31,
   "id": "52734c5e-f7b5-49c3-8cb3-fac7428b21a6",
   "metadata": {},
   "outputs": [
    {
     "data": {
      "text/plain": [
       "'masters in data science'"
      ]
     },
     "execution_count": 31,
     "metadata": {},
     "output_type": "execute_result"
    }
   ],
   "source": [
    "c.course_name"
   ]
  },
  {
   "cell_type": "code",
   "execution_count": 32,
   "id": "6fae8c72-5b15-4a03-8093-eddecdb5e4a6",
   "metadata": {},
   "outputs": [],
   "source": [
    "#Ans 5)\n",
    "#Method overriding is a feature of object-oriented programming in Python where a subclass provides its own implementation of a method that is already defined in its parent class.\n",
    "#When a method in a subclass has the same name, parameters, and return type as a method in its parent class, it is said to be masked by the subclass's implementation.\n",
    "#Example -\n",
    "class Animal:\n",
    "    def make_sound(self):\n",
    "        print (\"The animal makes a sound\")\n",
    "        \n",
    "class Dog(Animal):\n",
    "    def make_sound(self):\n",
    "        print(\"The dog barks\")\n",
    "        \n",
    "class Cat(Animal):\n",
    "    def make_sound (self):\n",
    "        print (\"The cat meows\")"
   ]
  },
  {
   "cell_type": "code",
   "execution_count": 33,
   "id": "1f868e27-3006-43d0-942f-ec4256144be1",
   "metadata": {},
   "outputs": [],
   "source": [
    "a = Animal()"
   ]
  },
  {
   "cell_type": "code",
   "execution_count": 36,
   "id": "1b084b02-ebfc-4dc6-9ccd-5e09ffe789c9",
   "metadata": {},
   "outputs": [],
   "source": [
    "d = Dog()"
   ]
  },
  {
   "cell_type": "code",
   "execution_count": 37,
   "id": "95f6752e-f9f8-467a-9990-ee7f25968913",
   "metadata": {},
   "outputs": [],
   "source": [
    "c = Cat()"
   ]
  },
  {
   "cell_type": "code",
   "execution_count": 39,
   "id": "9a0f482d-39d2-4527-ad5e-e042bd962723",
   "metadata": {},
   "outputs": [
    {
     "name": "stdout",
     "output_type": "stream",
     "text": [
      "The cat meows\n"
     ]
    }
   ],
   "source": [
    "c.make_sound()"
   ]
  },
  {
   "cell_type": "code",
   "execution_count": 40,
   "id": "509a55bb-9996-44b1-bbac-d41d3ca294c8",
   "metadata": {},
   "outputs": [
    {
     "name": "stdout",
     "output_type": "stream",
     "text": [
      "The dog barks\n"
     ]
    }
   ],
   "source": [
    "d.make_sound()"
   ]
  },
  {
   "cell_type": "code",
   "execution_count": null,
   "id": "840ceca9-ca13-476d-b943-f697686c7a8b",
   "metadata": {},
   "outputs": [],
   "source": []
  }
 ],
 "metadata": {
  "kernelspec": {
   "display_name": "Python 3 (ipykernel)",
   "language": "python",
   "name": "python3"
  },
  "language_info": {
   "codemirror_mode": {
    "name": "ipython",
    "version": 3
   },
   "file_extension": ".py",
   "mimetype": "text/x-python",
   "name": "python",
   "nbconvert_exporter": "python",
   "pygments_lexer": "ipython3",
   "version": "3.10.8"
  }
 },
 "nbformat": 4,
 "nbformat_minor": 5
}
