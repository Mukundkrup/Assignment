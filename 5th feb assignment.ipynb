{
 "cells": [
  {
   "cell_type": "code",
   "execution_count": 1,
   "id": "38e45c72-3de6-4de6-9c66-deb0256de882",
   "metadata": {},
   "outputs": [],
   "source": [
    "#Ans 1)\n",
    "# In object-oriented programming(OOP), a class is a blueprint or template for creating objects. It defines a set of attributes (data members) and methods (member functions) that an object of that class can have. An object, on the other hand, is an instance of a class that has been created and instantiated using the class blueprint. It has own set of values for the data members and can invoke the methods defined in the class.\n",
    "#For example:\n",
    "#consider a class called 'car'. The 'car' class could have attributes such as 'color', 'make' , 'model', 'year', and 'currentspeed'. It could also have methods such as would have its own unique set of values for the attributes (e.g. 'color' = 'red', 'make = \"Toyota\"', 'model = \"Corolla\" ' , 'year = 2022', 'currentSpeed = 0') and can invoke the methods defined in the class (e.g. 'car.accelerate()', 'car.brake()', 'car.turn(\"left\")')\n",
    "#In this example, 'car' is the class and 'car' is the object that has been instantiated from that class. By defining the class onve, you can create multiple objects (e.g. 'car1', 'car2', 'car3', etc.) with the same attributes and methods, but with different values for those attributes. This is one of the main benefits of using OOP - it allows you to create reusable code that can be easily customized to create multiple instances of the same type of object."
   ]
  },
  {
   "cell_type": "code",
   "execution_count": 2,
   "id": "f9c6d8a1-6807-4ccc-ac6e-1265443d4396",
   "metadata": {},
   "outputs": [],
   "source": [
    "#Ans 2)\n",
    "#The four pillars of OOPS are :\n",
    "#1. Encapsulation\n",
    "#2. Abstraction\n",
    "#3. Inheritance\n",
    "#4. Polymorphism\n"
   ]
  },
  {
   "cell_type": "code",
   "execution_count": 5,
   "id": "ce0eb173-33c1-4d3d-a3eb-c37b17e43698",
   "metadata": {},
   "outputs": [],
   "source": [
    "#Ans 3)\n",
    "#In Python, the \"__init__()\" function is a special mehtod that is called automatically when an oject of a class is created. It is used to initiallize the attributes or properties of the object.\n",
    "#The purpose of the '__init__()' method is to provide a way to customize the creation of an object with specific initial values for its attributes.\n",
    "#For example :\n",
    "     #let's say we want to create a class called 'Rectangle' to represent rectangles. The class might have two attributes, 'length' and 'width'.We can define the '__init__()' method to take two arguments, 'lenght and 'width', and use them to initiallize the 'length' and 'width' attributes of the object.\n",
    "    # class Rectangle:\n",
    "    #     def __init__(self, lenght, width):\n",
    "    #         self.length = length\n",
    "    #         self.width =width"
   ]
  },
  {
   "cell_type": "code",
   "execution_count": 6,
   "id": "2f5f67a0-7127-4b3c-b60a-d75c5de29943",
   "metadata": {},
   "outputs": [],
   "source": [
    "#Ans 4)\n",
    "#In OOPs, 'self' is a reference variable used to refer to the current instance of a class.\n",
    "#It is a convention in Python to use 'self' as the first parameter in the definition of instance methods. 'self' is not a reserved keyword in Python, but it is a widely accepted convention in the Python communtiy.\n",
    "#using 'self allows us to access the attributes and methods of an instance of a class from within that instance. When we create an object of a class, we can use the 'self' keyword to refer to that object's instance variables and methods.\n",
    "#For example:\n",
    "# class Person:\n",
    "#   def __init__(self, name):\n",
    "#       self.name = name\n",
    "\n",
    "#    def great(self);\n",
    "#        print(\"hello, my name is\", self.name)"
   ]
  },
  {
   "cell_type": "code",
   "execution_count": null,
   "id": "0c72c2cb-80de-45e6-90ea-80f90d231ad7",
   "metadata": {},
   "outputs": [],
   "source": [
    "#Ans 5)\n",
    "#Inheritance is a key concept in object-oriented programming that allows us to create a new class that is a modified version of an existing class.\n",
    "#The new class inherits the properties and methods of the existing class and can add new features or modify existing ones. Inheritance promotes code reusability and reduces code duplication by allowing us to create new classes based on existing ones.\n",
    "#There are four types of inheritance in object-oriented programming:\n",
    "\n",
    "#1 Single Inheritance: In single inheritance, a subclass inherits from a single superclass. This is the simplest and most common type of inheritance. For example:\n",
    "#class Animal:\n",
    "#   def __init__(self, name):\n",
    "#        self.name = name\n",
    "#    def speak(self): \n",
    "#        print(\"I am an animal\") \n",
    "#class Cat(Animal):\n",
    "#    def __init__(self, name):\n",
    "#        super().__init__(name) \n",
    "#    def speak(self): \n",
    "#        print(\"Meow\")\n",
    "\n",
    "#Multiple Inheritance: In multiple inheritance, a subclass inherits from multiple superclasses. For example:\n",
    "#class A: \n",
    "#    def foo(self):\n",
    "#        print(\"A\") \n",
    "#class B: \n",
    "#    def foo(self):\n",
    "#        print(\"B\") \n",
    "#class C(A, B): \n",
    "#    pass\n",
    "\n",
    "#3 Multilevel Inheritance: In multilevel inheritance, a subclass inherits from a superclass, which itself inherits from another superclass. For example:\n",
    "#class Animal:\n",
    "#    def __init__(self, name):\n",
    "#        self.name = name \n",
    "#    def speak(self): \n",
    "#        print(\"I am an animal\") \n",
    "#class Mammal(Animal): \n",
    "#    def __init__(self, name):\n",
    "#        super().__init__(name) \n",
    "#    def run(self):\n",
    "#        print(\"I can run\")\n",
    "#class Cat(Mammal): \n",
    "#    def __init__(self, name):\n",
    "#        super().__init__(name)\n",
    "#    def speak(self): \n",
    "#        print(\"Meow\")\n",
    "\n",
    "#4 Hierarchical Inheritance: In hierarchical inheritance, multiple subclasses inherit from a single superclass. For example:\n",
    "#class Animal:\n",
    "#    def __init__(self, name):\n",
    "#        self.name = name\n",
    "#    def speak(self): \n",
    "#        print(\"I am an animal\")\n",
    "#class Cat(Animal): \n",
    "#    def __init__(self, name): \n",
    "#        super().__init__(name)\n",
    "#    def speak(self):\n",
    "#        print(\"Meow\")\n",
    "#class Dog(Animal): \n",
    "#    def __init__(self, name):\n",
    "#        super().__init__(name) \n",
    "#    def speak(self): \n",
    "#        print(\"Woof\")"
   ]
  }
 ],
 "metadata": {
  "kernelspec": {
   "display_name": "Python 3 (ipykernel)",
   "language": "python",
   "name": "python3"
  },
  "language_info": {
   "codemirror_mode": {
    "name": "ipython",
    "version": 3
   },
   "file_extension": ".py",
   "mimetype": "text/x-python",
   "name": "python",
   "nbconvert_exporter": "python",
   "pygments_lexer": "ipython3",
   "version": "3.10.8"
  }
 },
 "nbformat": 4,
 "nbformat_minor": 5
}
