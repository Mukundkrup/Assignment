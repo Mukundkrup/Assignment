{
 "cells": [
  {
   "cell_type": "code",
   "execution_count": 1,
   "id": "4505be18-e138-48be-846f-c3d0fe8dea8a",
   "metadata": {},
   "outputs": [],
   "source": [
    "#Ans 1)\n",
    "# The open function is used to open a file.\n",
    "\n",
    "#In the python, the open function takes two arguments: the file name(which can include the file path)and the mode in which the file is to be opened (e.g.,read-only,write-only,or read-write).\n",
    "\n",
    "#In python, there are several modes in which you can open a file. The mode determines what operations can be performed on the file. Here are the most common modes:\n",
    "\n",
    "#1) 'r': read-only mode. The file can be read but not modified\n",
    "\n",
    "#2) 'w': write-only mode. If the file exists, it will be truncated (i.e., all existing data will be deleted) and opened for writing. If the file does not exist, a new file will be created.\n",
    "\n",
    "#3) 'a': append mode. If the file exists, new data will be written to the end of the file. If the file does not exist, a new file will be created.\n",
    "\n",
    "#4) 'x': exclusive creation mode. If the file does not exist, a new file will be created. If the file exists, a FileExistsError will be raised.\n",
    "\n",
    "#5) b': binary mode. This mode should be used when working with non-text files, such as images or audio files.\n",
    "\n",
    "#6) 't': text mode. This mode is used by default and should be used when working with text files."
   ]
  },
  {
   "cell_type": "code",
   "execution_count": 2,
   "id": "82391af3-2874-4666-942b-62ce2a939ea4",
   "metadata": {},
   "outputs": [],
   "source": [
    "#Ans 2)\n",
    "#In python, the \"close()\" function is used to close an open file. \n",
    "#It's important to close a file after you've finished working with it because:\n",
    "#it saves any changes you made to the file.When you open a file in write mode or append mode,any changes you make to the file are not actually saved until you close the file. \n",
    "#If you don't close the file, the changes may be lost.\n",
    "#It release system resources. When you open a file, the operating system assigns resources to it, such as memory and cpu time.\n",
    "#If you don't close the file, these resources may be tied up and unavailable to other parts of your programs running on your computer.\n",
    "#It prevents data corruption. If you have multiple programs or threads accessing the same file simultaneously, it's possible for data corruption to occur if the file is not closed properly."
   ]
  },
  {
   "cell_type": "code",
   "execution_count": 3,
   "id": "0e2679d8-8abb-43c8-88fd-2596384e8e9d",
   "metadata": {},
   "outputs": [],
   "source": [
    "#Ans 3)\n",
    "f = open(\"mukund.txt\" , \"w\")"
   ]
  },
  {
   "cell_type": "code",
   "execution_count": 4,
   "id": "e660de84-82c4-4d85-bf7b-0fcf5de36617",
   "metadata": {},
   "outputs": [
    {
     "data": {
      "text/plain": [
       "33"
      ]
     },
     "execution_count": 4,
     "metadata": {},
     "output_type": "execute_result"
    }
   ],
   "source": [
    "f.write(\"I want to become a Data Scientist\")"
   ]
  },
  {
   "cell_type": "code",
   "execution_count": 5,
   "id": "d7aa5306-3ddb-4758-a4c5-92538be06b46",
   "metadata": {},
   "outputs": [],
   "source": [
    "f.close()"
   ]
  },
  {
   "cell_type": "code",
   "execution_count": 6,
   "id": "3b832aa0-2bfb-43ed-914b-6ef6f5eeb218",
   "metadata": {},
   "outputs": [],
   "source": [
    "f = open(\"mukund.txt\" , \"r\")"
   ]
  },
  {
   "cell_type": "code",
   "execution_count": 7,
   "id": "a3efb7a6-a96e-43a8-b764-8802d65f8209",
   "metadata": {},
   "outputs": [
    {
     "data": {
      "text/plain": [
       "'I want to become a Data Scientist'"
      ]
     },
     "execution_count": 7,
     "metadata": {},
     "output_type": "execute_result"
    }
   ],
   "source": [
    "f.read()"
   ]
  },
  {
   "cell_type": "code",
   "execution_count": 8,
   "id": "05ef0e2e-9083-47df-a0b9-ca7374f96913",
   "metadata": {},
   "outputs": [],
   "source": [
    "#Ans 4)\n",
    "#In Python, there are several methods you can use to read data from a file. \n",
    "#Here's an explanation of the read(), readline(), and readlines() methods\n",
    "#1) read(): This method is used to read the entire contents of a file as a string. When you call read(), it reads the entire contents of the file and returns them as a single string.\n",
    "#2) readline(): This method is used to read a single line of a file. When you call readline(), it reads the next line of the file and returns it as a string.\n",
    "#3) readlines(): This method is used to read all the lines of a file and return them as a list of strings. When you call readlines(), it reads all the lines of the file and returns them as a list of strings.readlines(): This method is used to read all the lines of a file and return them as a list of strings. When you call readlines(), it reads all the lines of the file and returns them as a list of strings."
   ]
  },
  {
   "cell_type": "code",
   "execution_count": 9,
   "id": "cddfc440-c3ec-4571-92cd-f33cb4790fd1",
   "metadata": {},
   "outputs": [],
   "source": [
    "#Ans 5)\n",
    "#In python, the 'with' statement is used in conjunction with the 'open()' function to open a file and automatically close it when you're done working with it.\n",
    "#The advantage of using with statement and open() function together is that it ensures that the file is always properly closed, even if an exception is raised or an error occurs.\n",
    "#If you don't use with statement and open() function together, you need to remember to manually close the file after you're done working with it, which can be easy to forget and can lead to issues such as data corruption or resource allocation problems.\n",
    "#Additionally, the with statement and open() function together make your code more concise and easier to read. You don't need to worry about closing the file, so you can focus on the operations you want to perform on the file."
   ]
  },
  {
   "cell_type": "code",
   "execution_count": 5,
   "id": "f07b4fa8-7ddb-4dd5-b81b-4f8ca56a5627",
   "metadata": {},
   "outputs": [],
   "source": [
    "#Ans 6)\n",
    "#In Python, the write() and writelines() functions are used to write data to a file.\n",
    "#The write() function writes a single string to the file, while writelines() writes a list of strings to the file.\n",
    "#The write() function takes a single argument, which is the string to be written to the file. \n",
    "#It returns the number of characters written to the file. If the file does not exist, it will be created.\n",
    "#If it already exists, the contents of the file will be overwritten.\n",
    "#Here is an example of using the write() function:\n",
    "#open a file in write mode \n",
    "file = open (\"test.txt\" , \"w\")\n",
    "#write a string to the file\n",
    "file.write(\"this is the example for writting in a file\")\n",
    "#close the file\n",
    "file.close()"
   ]
  },
  {
   "cell_type": "code",
   "execution_count": 10,
   "id": "53f04d93-6bf3-4674-a132-771128d66764",
   "metadata": {},
   "outputs": [],
   "source": [
    "#The writelines() function takes a list of strings as its argument.\n",
    "#It writes each string in the list to the file, one after the other.\n",
    "#It does not add any line breaks between the strings, so you may need to add them manually.\n",
    "#Here is an example of using the writelines() function:\n",
    "file = open (\"test1.txt\" , \"w\")\n",
    "#write a string to the file\n",
    "lines = [\"hello \" , \" python \" , \" Mukund\"]\n",
    "file.writelines(lines)\n",
    "#close the file\n",
    "file.close()"
   ]
  },
  {
   "cell_type": "code",
   "execution_count": null,
   "id": "110177cb-583f-4862-9ffb-4b0ba949cf96",
   "metadata": {},
   "outputs": [],
   "source": []
  }
 ],
 "metadata": {
  "kernelspec": {
   "display_name": "Python 3 (ipykernel)",
   "language": "python",
   "name": "python3"
  },
  "language_info": {
   "codemirror_mode": {
    "name": "ipython",
    "version": 3
   },
   "file_extension": ".py",
   "mimetype": "text/x-python",
   "name": "python",
   "nbconvert_exporter": "python",
   "pygments_lexer": "ipython3",
   "version": "3.10.8"
  }
 },
 "nbformat": 4,
 "nbformat_minor": 5
}
