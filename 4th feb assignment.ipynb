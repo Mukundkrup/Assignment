{
 "cells": [
  {
   "cell_type": "code",
   "execution_count": 32,
   "id": "c7322d0b-c466-4214-95b7-000fa3f14ceb",
   "metadata": {},
   "outputs": [
    {
     "data": {
      "text/plain": [
       "[('Virat Kohli', 24936),\n",
       " ('Jack Kallis', 25534),\n",
       " ('Ricky Ponting', 27483),\n",
       " ('Sachin Tendulkar', 34357)]"
      ]
     },
     "execution_count": 32,
     "metadata": {},
     "output_type": "execute_result"
    }
   ],
   "source": [
    "#Ans 1)\n",
    "t = [('Sachin Tendulkar', 34357),('Ricky Ponting', 27483), ('Jack Kallis', 25534), ('Virat Kohli', 24936)]\n",
    "sorted(t, key= lambda x: x[1] )"
   ]
  },
  {
   "cell_type": "code",
   "execution_count": 1,
   "id": "df23cf4c-cd70-4795-84af-2e05d1124b92",
   "metadata": {},
   "outputs": [
    {
     "data": {
      "text/plain": [
       "[1, 4, 9, 16, 25, 36, 49, 64, 81, 100]"
      ]
     },
     "execution_count": 1,
     "metadata": {},
     "output_type": "execute_result"
    }
   ],
   "source": [
    "#Ans 2) \n",
    "l = [1,2,3,4,5,6,7,8,9,10]\n",
    "list(map(lambda x: x**2,l))"
   ]
  },
  {
   "cell_type": "code",
   "execution_count": 10,
   "id": "ca2de914-98f4-4100-89c5-dbdc1b66719c",
   "metadata": {},
   "outputs": [
    {
     "data": {
      "text/plain": [
       "('1', '2', '3', '4', '5', '6', '7', '8', '9', '10')"
      ]
     },
     "execution_count": 10,
     "metadata": {},
     "output_type": "execute_result"
    }
   ],
   "source": [
    "#Ans 3)\n",
    "l2 = [1,2,3,4,5,6,7,8,9,10]\n",
    "tuple(map(lambda x: str(x) , l2))"
   ]
  },
  {
   "cell_type": "code",
   "execution_count": 11,
   "id": "a8493264-f50a-41c1-85ee-20c845a7f430",
   "metadata": {},
   "outputs": [],
   "source": [
    "#Ans 4)\n",
    "from functools import reduce"
   ]
  },
  {
   "cell_type": "code",
   "execution_count": 14,
   "id": "05ee053c-8cc1-41bc-9485-ef9c534fbf19",
   "metadata": {},
   "outputs": [
    {
     "data": {
      "text/plain": [
       "15511210043330985984000000"
      ]
     },
     "execution_count": 14,
     "metadata": {},
     "output_type": "execute_result"
    }
   ],
   "source": [
    "reduce(lambda x,y: x*y , range (1,26))"
   ]
  },
  {
   "cell_type": "code",
   "execution_count": 16,
   "id": "b800cc58-45bd-4b6c-8cf9-35ebd3bf0175",
   "metadata": {},
   "outputs": [
    {
     "data": {
      "text/plain": [
       "[6, 60, 90, 120]"
      ]
     },
     "execution_count": 16,
     "metadata": {},
     "output_type": "execute_result"
    }
   ],
   "source": [
    "#Ans 5)\n",
    "l3 = [2,3,6,9,27,60,90,120,55,46]\n",
    "list(filter(lambda x : x%2 == 0 and x%3 == 0 , l3))"
   ]
  },
  {
   "cell_type": "code",
   "execution_count": 34,
   "id": "5fa0b2aa-fbf4-4d4b-8d80-6de69e80933b",
   "metadata": {},
   "outputs": [
    {
     "data": {
      "text/plain": [
       "['php', 'aba', 'radar', 'level']"
      ]
     },
     "execution_count": 34,
     "metadata": {},
     "output_type": "execute_result"
    }
   ],
   "source": [
    "#Ans 6)\n",
    "l4 = ['python', 'php', 'aba', 'radar', 'level']\n",
    "list(filter(lambda x : x == x[::-1] , l4))"
   ]
  }
 ],
 "metadata": {
  "kernelspec": {
   "display_name": "Python 3 (ipykernel)",
   "language": "python",
   "name": "python3"
  },
  "language_info": {
   "codemirror_mode": {
    "name": "ipython",
    "version": 3
   },
   "file_extension": ".py",
   "mimetype": "text/x-python",
   "name": "python",
   "nbconvert_exporter": "python",
   "pygments_lexer": "ipython3",
   "version": "3.10.8"
  }
 },
 "nbformat": 4,
 "nbformat_minor": 5
}
